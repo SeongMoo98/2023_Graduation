{
 "cells": [
  {
   "cell_type": "code",
   "execution_count": 1,
   "metadata": {},
   "outputs": [],
   "source": [
    "import pandas as pd\n",
    "import numpy as np\n",
    "import math"
   ]
  },
  {
   "cell_type": "code",
   "execution_count": 2,
   "metadata": {},
   "outputs": [],
   "source": [
    "# data 기본 경로\n",
    "ABSOLUTE_PATH = \"C:\\\\Users\\\\rudnf\\\\vscode\\\\Graduation\\\\Data_Preprocessing\\\\data\\\\\"\n",
    "MONTHS = [\"01\", \"02\", \"03\", \"04\", \"05\", \"06\", \"07\", \"08\", \"09\", \"10\", \"11\", \"12\"]\n",
    "SEASONS = [\"spring\", \"summer\", \"fall\", \"winter\"]\n",
    "KS = [20, 35, 50]"
   ]
  },
  {
   "cell_type": "code",
   "execution_count": 3,
   "metadata": {},
   "outputs": [],
   "source": [
    "def season_match(season):\n",
    "    months = []\n",
    "    if season == \"spring\":\n",
    "        months = [\"03\", \"04\", \"05\"]\n",
    "    if season == \"summer\":\n",
    "        months = [\"06\", \"07\", \"08\"]\n",
    "    if season == \"fall\":\n",
    "        months = [\"09\", \"10\", \"11\"]\n",
    "    if season == \"winter\":\n",
    "        months = [\"12\", \"01\", \"02\"]\n",
    "    return months"
   ]
  },
  {
   "cell_type": "code",
   "execution_count": 4,
   "metadata": {},
   "outputs": [],
   "source": [
    "def load_POI_cluster_data(path):\n",
    "    locations = pd.read_csv(path)\n",
    "        \n",
    "    locations = locations[[\"lon\", \"lat\"]]\n",
    "    locations.index = [f'POI{i}' for i in range(len(locations))]\n",
    "    \n",
    "    return locations"
   ]
  },
  {
   "cell_type": "code",
   "execution_count": 5,
   "metadata": {},
   "outputs": [],
   "source": [
    "def load_GPS_data(path):\n",
    "    df = pd.read_csv(path)\n",
    "\n",
    "    # csv파일로 불러온 시간(Type : str)을 datetime으로 변경(이후 코드에서 datetime 사용)\n",
    "    df['collection_dt'] = pd.to_datetime(df['collection_dt'])\n",
    "    df.sort_values(by='collection_dt', ascending=True)\n",
    "    \n",
    "    return df"
   ]
  },
  {
   "cell_type": "markdown",
   "metadata": {},
   "source": [
    "## GPS 데이터로 Trajectory 만들기\n",
    "    trajectory : (trajectory_id, start_point, end_point, path, time_period)"
   ]
  },
  {
   "cell_type": "code",
   "execution_count": 6,
   "metadata": {},
   "outputs": [],
   "source": [
    "# Haversine 공식 : 위도, 경로 간 거리 구하기\n",
    "def _haversine_distance(lon1, lat1, lon2, lat2):\n",
    "    R = 6371  # 지구의 반지름 (단위: km)\n",
    "    lon1_rad = math.radians(lon1)\n",
    "    lat1_rad = math.radians(lat1)\n",
    "    lon2_rad = math.radians(lon2)\n",
    "    lat2_rad = math.radians(lat2)\n",
    "    \n",
    "    diff_lon = lon2_rad - lon1_rad\n",
    "    diff_lat = lat2_rad - lat1_rad\n",
    "\n",
    "    a = math.sin(diff_lon/2)**2 + math.cos(lat1_rad) * math.cos(lat2_rad) * math.sin(diff_lat/2)**2\n",
    "    c = 2 * math.atan2(math.sqrt(a), math.sqrt(1-a))\n",
    "    distance = R * c\n",
    "\n",
    "    return distance"
   ]
  },
  {
   "cell_type": "code",
   "execution_count": 7,
   "metadata": {},
   "outputs": [],
   "source": [
    "# dawn : 00:00 ~ 05:59\n",
    "# morning : 06:00 ~ 11:59\n",
    "# afternoon : 12:00 ~ 17:59\n",
    "# night : 18:00 ~ 23:00\n",
    "def _map_time_period(time):\n",
    "    if time < pd.to_datetime('06:00:00').time():\n",
    "        return 'dawn'\n",
    "    elif time < pd.to_datetime('12:00:00').time():\n",
    "        return 'morning'\n",
    "    elif time < pd.to_datetime('18:00:00').time():\n",
    "        return 'afternoon'\n",
    "    else:\n",
    "        return 'night'"
   ]
  },
  {
   "cell_type": "code",
   "execution_count": 8,
   "metadata": {},
   "outputs": [],
   "source": [
    "def _map_group_time_period(rows):\n",
    "    rows['time_period'] = rows['collection_dt'].dt.time.apply(_map_time_period)\n",
    "\n",
    "    return rows "
   ]
  },
  {
   "cell_type": "code",
   "execution_count": 9,
   "metadata": {},
   "outputs": [],
   "source": [
    "# Haversine 공식을 이용한 Trajectory 생성\n",
    "# 관심지점 - GPS 데이터 간 거리 1km 이내\n",
    "def _calculate_path(rows, locations):\n",
    "    path = []\n",
    "    for _, row in rows.iterrows():\n",
    "        GPS_lon = row['longitude']\n",
    "        GPS_lat = row['latitude']\n",
    "        \n",
    "        # POI_name : POIx\n",
    "        distance = [_haversine_distance(GPS_lon, GPS_lat, POI_GPS_data['lon'], POI_GPS_data['lat']) for _, POI_GPS_data in locations.iterrows()]\n",
    "        \n",
    "        nearest_idx = np.argmin(distance)\n",
    "        # 1km이하인 지점이 아니라 제일 가까운 POI로 수정해야함\n",
    "        if np.min(distance) <= 1:\n",
    "            path.append(locations.index[nearest_idx])\n",
    "        \n",
    "    return path"
   ]
  },
  {
   "cell_type": "code",
   "execution_count": 10,
   "metadata": {},
   "outputs": [],
   "source": [
    "# v.0.5.0 : _remove_duplicated_path에서 시간대가 걸쳐있는 path는 중복된 POI를 제거 x\n",
    "def _remove_duplicated_path(path, cal_time_rows):\n",
    "    removed_path = []\n",
    "    removed_time_period = []\n",
    "\n",
    "    prev_location = path[0]\n",
    "    start_idx = 0\n",
    "    end_idx = len(path)-1\n",
    "\n",
    "    for idx, location in enumerate(path):\n",
    "\n",
    "        if (location != prev_location) or (idx == len(path)-1) :\n",
    "            end_idx = idx\n",
    "\n",
    "            same_POI_rows = cal_time_rows.iloc[start_idx:end_idx]\n",
    "            time_period_unique = same_POI_rows['time_period'].unique()\n",
    "            \n",
    "            if len(time_period_unique) != 1:\n",
    "                for each_time_period in time_period_unique:\n",
    "                    removed_path.append(prev_location)\n",
    "                    removed_time_period.append(each_time_period)\n",
    "            else:\n",
    "                removed_path.append(prev_location)\n",
    "                removed_time_period.append(time_period_unique.item())\n",
    "            \n",
    "            prev_location = location\n",
    "            start_idx = idx       \n",
    "\n",
    "    return removed_path, removed_time_period"
   ]
  },
  {
   "cell_type": "code",
   "execution_count": 11,
   "metadata": {},
   "outputs": [],
   "source": [
    "def make_trajectory(df, locations):\n",
    "        \n",
    "    # DataFrame을 (년, 월, 일, oid)로 grouping\n",
    "    grouped = df.groupby([df['collection_dt'].dt.year, \n",
    "                            df['collection_dt'].dt.month, \n",
    "                            df['collection_dt'].dt.day, \n",
    "                            df['oid']])\n",
    "\n",
    "    trajectories = pd.DataFrame(columns=['trajectory_id', 'start_point','end_point', 'path', 'time_period'])\n",
    "    concat_row = pd.DataFrame(columns=['trajectory_id', 'start_point','end_point', 'path', 'time_period'])\n",
    "\n",
    "\n",
    "    index = 0\n",
    "    for group_key, rows in grouped:\n",
    "        \n",
    "        if index == 10:\n",
    "            break\n",
    "\n",
    "        # Grouping한 GPS data가 100개 이하일 경우 의미있는 경로가 나오지 않을 것이라 판단하여 포함 x\n",
    "        if (len(rows) <= 100):\n",
    "            continue\n",
    "        \n",
    "        # Grouping 한 rows에서 collection_dt의 값이 동일한 data가 존재\n",
    "        rows.drop_duplicates(subset=['collection_dt'], inplace=True)\n",
    "\n",
    "        # Grouping한 rows의 time_period를 mapping\n",
    "        cal_time_rows = _map_group_time_period(rows)\n",
    "        path = _calculate_path(cal_time_rows, locations)\n",
    "        \n",
    "        if len(path) == 0:\n",
    "            continue\n",
    "\n",
    "        removed_path, removed_time_period = _remove_duplicated_path(path, cal_time_rows)\n",
    "\n",
    "        if (len(removed_path) == 0) or (len(removed_path) == 1):\n",
    "            continue\n",
    "\n",
    "        start_point, end_point = removed_path[0], removed_path[-1]\n",
    "        \n",
    "        column_list = ['trajectory_id', 'start_point', 'end_point', 'path', 'time_period']\n",
    "        concat_row.loc[0, column_list] = [ group_key, start_point, end_point, removed_path, removed_time_period ]\n",
    "        \n",
    "        trajectories = pd.concat([trajectories, concat_row], ignore_index=True)\n",
    "        index += 1 \n",
    "    return trajectories\n",
    "        "
   ]
  },
  {
   "cell_type": "markdown",
   "metadata": {},
   "source": [
    "## 전체 코드 돌리기"
   ]
  },
  {
   "cell_type": "code",
   "execution_count": 14,
   "metadata": {},
   "outputs": [],
   "source": [
    "for season in SEASONS:\n",
    "    months = season_match(season)\n",
    "    for month in months:    \n",
    "        for k in KS:\n",
    "            df = load_GPS_data(ABSOLUTE_PATH + f\"GPS_data\\\\month_{month}.csv\")\n",
    "            locations = load_POI_cluster_data(ABSOLUTE_PATH + f\"frequency_of_stay_data\\\\cluster_data\\\\{season}\\\\{season}_cluster_{k}.csv\")\n",
    "            \n",
    "            trajectories = make_trajectory(df, locations)\n",
    "        \n",
    "            trajectories.to_csv(ABSOLUTE_PATH + f\"trajectory\\\\{season}\\\\trajectory_{month}_cluster_{k}.csv\", index=False)\n",
    "        "
   ]
  }
 ],
 "metadata": {
  "kernelspec": {
   "display_name": "Python 3",
   "language": "python",
   "name": "python3"
  },
  "language_info": {
   "codemirror_mode": {
    "name": "ipython",
    "version": 3
   },
   "file_extension": ".py",
   "mimetype": "text/x-python",
   "name": "python",
   "nbconvert_exporter": "python",
   "pygments_lexer": "ipython3",
   "version": "3.10.9"
  },
  "orig_nbformat": 4
 },
 "nbformat": 4,
 "nbformat_minor": 2
}
