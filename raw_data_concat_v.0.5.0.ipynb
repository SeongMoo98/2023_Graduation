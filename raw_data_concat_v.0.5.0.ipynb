{
 "cells": [
  {
   "cell_type": "markdown",
   "metadata": {},
   "source": [
    "## Raw Data concatenate\n",
    "    제주 데이터 허브 - https://www.jejudatahub.net/\n",
    "    - [교통, 안전] 월별 렌터카 체류 빈도[50m 격자]\n",
    "    - [교통, 안전] 월별 렌터카 위치정보\n",
    "    2020년, 2021년 동일 월 데이터  concatenate"
   ]
  },
  {
   "cell_type": "code",
   "execution_count": 1,
   "metadata": {},
   "outputs": [],
   "source": [
    "import pandas as pd\n",
    "import numpy as np\n",
    "import math"
   ]
  },
  {
   "cell_type": "code",
   "execution_count": 2,
   "metadata": {},
   "outputs": [],
   "source": [
    "ABSOLUTE_PATH = \"C:\\\\Users\\\\rudnf\\\\vscode\\\\Graduation\\\\Data_Preprocessing\\\\data\\\\\"\n",
    "MONTHS = [\"01\", \"02\", \"03\", \"04\", \"05\", \"06\", \"07\", \"08\", \"09\", \"10\", \"11\", \"12\"]"
   ]
  },
  {
   "cell_type": "code",
   "execution_count": 3,
   "metadata": {},
   "outputs": [],
   "source": [
    "def remove_invalid_data(df, month):\n",
    "    # Latitude\n",
    "    top = 33.567186\n",
    "    bottom = 33.112476\n",
    "        \n",
    "    # Longitude\n",
    "    left = 126.143480\n",
    "    right = 126.973814\n",
    "\n",
    "    df = df[(df['longitude'] > left) & \n",
    "            (df['longitude'] < right) &\n",
    "            (df['latitude'] > bottom) & \n",
    "            (df['latitude'] < top)]\n",
    "    \n",
    "    # GPS 데이터에서 월이 잘못 들어있는 데이터 제거\n",
    "    # ex) 위치정보_2020_02.csv에 3월 데이터가 들어가 있다\n",
    "    df['collection_dt'] = pd.to_datetime(df['collection_dt'].astype(str), format='%Y%m%d%H%M%S%f')\n",
    "    df = df.drop(df.loc[df['collection_dt'].dt.month != int(month)].index, axis=0)\n",
    "    \n",
    "    return df"
   ]
  },
  {
   "cell_type": "code",
   "execution_count": 4,
   "metadata": {},
   "outputs": [
    {
     "name": "stderr",
     "output_type": "stream",
     "text": [
      "C:\\Users\\rudnf\\AppData\\Local\\Temp\\ipykernel_17080\\3518943218.py:17: SettingWithCopyWarning: \n",
      "A value is trying to be set on a copy of a slice from a DataFrame.\n",
      "Try using .loc[row_indexer,col_indexer] = value instead\n",
      "\n",
      "See the caveats in the documentation: https://pandas.pydata.org/pandas-docs/stable/user_guide/indexing.html#returning-a-view-versus-a-copy\n",
      "  df['collection_dt'] = pd.to_datetime(df['collection_dt'].astype(str), format='%Y%m%d%H%M%S%f')\n",
      "C:\\Users\\rudnf\\AppData\\Local\\Temp\\ipykernel_17080\\3518943218.py:17: SettingWithCopyWarning: \n",
      "A value is trying to be set on a copy of a slice from a DataFrame.\n",
      "Try using .loc[row_indexer,col_indexer] = value instead\n",
      "\n",
      "See the caveats in the documentation: https://pandas.pydata.org/pandas-docs/stable/user_guide/indexing.html#returning-a-view-versus-a-copy\n",
      "  df['collection_dt'] = pd.to_datetime(df['collection_dt'].astype(str), format='%Y%m%d%H%M%S%f')\n",
      "C:\\Users\\rudnf\\AppData\\Local\\Temp\\ipykernel_17080\\3518943218.py:17: SettingWithCopyWarning: \n",
      "A value is trying to be set on a copy of a slice from a DataFrame.\n",
      "Try using .loc[row_indexer,col_indexer] = value instead\n",
      "\n",
      "See the caveats in the documentation: https://pandas.pydata.org/pandas-docs/stable/user_guide/indexing.html#returning-a-view-versus-a-copy\n",
      "  df['collection_dt'] = pd.to_datetime(df['collection_dt'].astype(str), format='%Y%m%d%H%M%S%f')\n",
      "C:\\Users\\rudnf\\AppData\\Local\\Temp\\ipykernel_17080\\3518943218.py:17: SettingWithCopyWarning: \n",
      "A value is trying to be set on a copy of a slice from a DataFrame.\n",
      "Try using .loc[row_indexer,col_indexer] = value instead\n",
      "\n",
      "See the caveats in the documentation: https://pandas.pydata.org/pandas-docs/stable/user_guide/indexing.html#returning-a-view-versus-a-copy\n",
      "  df['collection_dt'] = pd.to_datetime(df['collection_dt'].astype(str), format='%Y%m%d%H%M%S%f')\n",
      "C:\\Users\\rudnf\\AppData\\Local\\Temp\\ipykernel_17080\\3518943218.py:17: SettingWithCopyWarning: \n",
      "A value is trying to be set on a copy of a slice from a DataFrame.\n",
      "Try using .loc[row_indexer,col_indexer] = value instead\n",
      "\n",
      "See the caveats in the documentation: https://pandas.pydata.org/pandas-docs/stable/user_guide/indexing.html#returning-a-view-versus-a-copy\n",
      "  df['collection_dt'] = pd.to_datetime(df['collection_dt'].astype(str), format='%Y%m%d%H%M%S%f')\n",
      "C:\\Users\\rudnf\\AppData\\Local\\Temp\\ipykernel_17080\\3518943218.py:17: SettingWithCopyWarning: \n",
      "A value is trying to be set on a copy of a slice from a DataFrame.\n",
      "Try using .loc[row_indexer,col_indexer] = value instead\n",
      "\n",
      "See the caveats in the documentation: https://pandas.pydata.org/pandas-docs/stable/user_guide/indexing.html#returning-a-view-versus-a-copy\n",
      "  df['collection_dt'] = pd.to_datetime(df['collection_dt'].astype(str), format='%Y%m%d%H%M%S%f')\n",
      "C:\\Users\\rudnf\\AppData\\Local\\Temp\\ipykernel_17080\\3518943218.py:17: SettingWithCopyWarning: \n",
      "A value is trying to be set on a copy of a slice from a DataFrame.\n",
      "Try using .loc[row_indexer,col_indexer] = value instead\n",
      "\n",
      "See the caveats in the documentation: https://pandas.pydata.org/pandas-docs/stable/user_guide/indexing.html#returning-a-view-versus-a-copy\n",
      "  df['collection_dt'] = pd.to_datetime(df['collection_dt'].astype(str), format='%Y%m%d%H%M%S%f')\n",
      "C:\\Users\\rudnf\\AppData\\Local\\Temp\\ipykernel_17080\\3518943218.py:17: SettingWithCopyWarning: \n",
      "A value is trying to be set on a copy of a slice from a DataFrame.\n",
      "Try using .loc[row_indexer,col_indexer] = value instead\n",
      "\n",
      "See the caveats in the documentation: https://pandas.pydata.org/pandas-docs/stable/user_guide/indexing.html#returning-a-view-versus-a-copy\n",
      "  df['collection_dt'] = pd.to_datetime(df['collection_dt'].astype(str), format='%Y%m%d%H%M%S%f')\n",
      "C:\\Users\\rudnf\\AppData\\Local\\Temp\\ipykernel_17080\\3518943218.py:17: SettingWithCopyWarning: \n",
      "A value is trying to be set on a copy of a slice from a DataFrame.\n",
      "Try using .loc[row_indexer,col_indexer] = value instead\n",
      "\n",
      "See the caveats in the documentation: https://pandas.pydata.org/pandas-docs/stable/user_guide/indexing.html#returning-a-view-versus-a-copy\n",
      "  df['collection_dt'] = pd.to_datetime(df['collection_dt'].astype(str), format='%Y%m%d%H%M%S%f')\n",
      "C:\\Users\\rudnf\\AppData\\Local\\Temp\\ipykernel_17080\\3518943218.py:17: SettingWithCopyWarning: \n",
      "A value is trying to be set on a copy of a slice from a DataFrame.\n",
      "Try using .loc[row_indexer,col_indexer] = value instead\n",
      "\n",
      "See the caveats in the documentation: https://pandas.pydata.org/pandas-docs/stable/user_guide/indexing.html#returning-a-view-versus-a-copy\n",
      "  df['collection_dt'] = pd.to_datetime(df['collection_dt'].astype(str), format='%Y%m%d%H%M%S%f')\n",
      "C:\\Users\\rudnf\\AppData\\Local\\Temp\\ipykernel_17080\\3518943218.py:17: SettingWithCopyWarning: \n",
      "A value is trying to be set on a copy of a slice from a DataFrame.\n",
      "Try using .loc[row_indexer,col_indexer] = value instead\n",
      "\n",
      "See the caveats in the documentation: https://pandas.pydata.org/pandas-docs/stable/user_guide/indexing.html#returning-a-view-versus-a-copy\n",
      "  df['collection_dt'] = pd.to_datetime(df['collection_dt'].astype(str), format='%Y%m%d%H%M%S%f')\n",
      "C:\\Users\\rudnf\\AppData\\Local\\Temp\\ipykernel_17080\\3518943218.py:17: SettingWithCopyWarning: \n",
      "A value is trying to be set on a copy of a slice from a DataFrame.\n",
      "Try using .loc[row_indexer,col_indexer] = value instead\n",
      "\n",
      "See the caveats in the documentation: https://pandas.pydata.org/pandas-docs/stable/user_guide/indexing.html#returning-a-view-versus-a-copy\n",
      "  df['collection_dt'] = pd.to_datetime(df['collection_dt'].astype(str), format='%Y%m%d%H%M%S%f')\n"
     ]
    }
   ],
   "source": [
    "for month in MONTHS:\n",
    "    car_frequency_2020 = pd.read_csv(ABSOLUTE_PATH + f\"frequency_of_stay_data\\\\체류빈도_2020_{month}.csv\")\n",
    "    car_frequency_2021 = pd.read_csv(ABSOLUTE_PATH + f\"frequency_of_stay_data\\\\체류빈도_2021_{month}.csv\")\n",
    "    \n",
    "    car_frequency_df = pd.concat([car_frequency_2020, car_frequency_2021], axis=0)\n",
    "    car_frequency_df = car_frequency_df[car_frequency_df['oid_count'] >= 10].loc[:, ['xcoord','ycoord']]\n",
    "    \n",
    "    gps_2020 = pd.read_csv(ABSOLUTE_PATH + f\"\\\\GPS_data\\\\위치정보_2020_{month}.csv\")\n",
    "    gps_2021 = pd.read_csv(ABSOLUTE_PATH + f\"\\\\GPS_data\\\\위치정보_2021_{month}.csv\")\n",
    "    \n",
    "    gps_df = pd.concat([gps_2020, gps_2021], axis=0)\n",
    "    # 결측치 제거\n",
    "    gps_df = gps_df.dropna(axis=0)\n",
    "    # 이상치(GPS가 벗어난 데이터, 월이 안맞는 데이터) 제거\n",
    "    gps_df = remove_invalid_data(gps_df, month)\n",
    "    \n",
    "    car_frequency_df.to_csv(ABSOLUTE_PATH + f\"frequency_of_stay_data\\\\spot_{month}.csv\", index=False)\n",
    "    gps_df.to_csv(ABSOLUTE_PATH + f\"\\\\GPS_data\\\\month_{month}.csv\", index=False)"
   ]
  },
  {
   "cell_type": "code",
   "execution_count": null,
   "metadata": {},
   "outputs": [],
   "source": []
  }
 ],
 "metadata": {
  "kernelspec": {
   "display_name": "Python 3",
   "language": "python",
   "name": "python3"
  },
  "language_info": {
   "codemirror_mode": {
    "name": "ipython",
    "version": 3
   },
   "file_extension": ".py",
   "mimetype": "text/x-python",
   "name": "python",
   "nbconvert_exporter": "python",
   "pygments_lexer": "ipython3",
   "version": "3.10.9"
  },
  "orig_nbformat": 4
 },
 "nbformat": 4,
 "nbformat_minor": 2
}
