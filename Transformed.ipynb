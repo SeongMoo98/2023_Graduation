{
 "cells": [
  {
   "cell_type": "code",
   "execution_count": 1,
   "id": "e1cb6d90",
   "metadata": {},
   "outputs": [],
   "source": [
    "import pandas as pd\n",
    "from pyproj import Transformer\n",
    "\n",
    "# 원래 좌표계 (EPSG:5179)와 변환할 좌표계 (EPSG:4326)의 Transformer 객체 생성\n",
    "transformer = Transformer.from_crs(\"EPSG:5179\", \"EPSG:4326\", always_xy=True)\n",
    "\n",
    "# CSV 파일 로드\n",
    "df = pd.read_csv('2021_07_50.csv')\n",
    "\n",
    "# 좌표 변환\n",
    "df[['lon', 'lat']] = df.apply(lambda row: transformer.transform(row['x'], row['y']), axis=1).apply(pd.Series)\n",
    "\n",
    "# 변환된 좌표로 업데이트된 CSV 파일 저장\n",
    "df.to_csv('2021_07_50_transformed.csv', index=False)\n"
   ]
  },
  {
   "cell_type": "code",
   "execution_count": null,
   "id": "3db1bc6f",
   "metadata": {},
   "outputs": [],
   "source": []
  }
 ],
 "metadata": {
  "kernelspec": {
   "display_name": "Python 3 (ipykernel)",
   "language": "python",
   "name": "python3"
  },
  "language_info": {
   "codemirror_mode": {
    "name": "ipython",
    "version": 3
   },
   "file_extension": ".py",
   "mimetype": "text/x-python",
   "name": "python",
   "nbconvert_exporter": "python",
   "pygments_lexer": "ipython3",
   "version": "3.11.3"
  }
 },
 "nbformat": 4,
 "nbformat_minor": 5
}
