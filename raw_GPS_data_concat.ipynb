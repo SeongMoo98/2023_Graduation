{
 "cells": [
  {
   "cell_type": "code",
   "execution_count": null,
   "metadata": {},
   "outputs": [],
   "source": [
    "def remove_invalid_data(df, month):\n",
    "    # Lat\n",
    "    top = 33.567186\n",
    "    bottom = 33.112476\n",
    "        \n",
    "    # Long\n",
    "    left = 126.143480\n",
    "    right = 126.973814\n",
    "\n",
    "    df = df[(df['longitude'] > left) & \n",
    "            (df['longitude'] < right) &\n",
    "            (df['latitude'] > bottom) & \n",
    "            (df['latitude'] < top)]\n",
    "    \n",
    "    # GPS 데이터에서 월이 잘못 들어있는 데이터 제거\n",
    "    # ex) 2020_2.csv에 3월 데이터가 들어가 있다\n",
    "    df['collection_dt'] = pd.to_datetime(df['collection_dt'].astype(str), format='%Y%m%d%H%M%S%f')\n",
    "    df = df.drop(df.loc[df['collection_dt'].dt.month != month].index, axis=0)\n",
    "    \n",
    "    return df"
   ]
  },
  {
   "cell_type": "code",
   "execution_count": null,
   "metadata": {},
   "outputs": [],
   "source": [
    "for month in range(1, 13):\n",
    "    GPS_2020 = pd.read_csv(f\"data/2020_{month}.csv\")\n",
    "    GPS_2021 = pd.read_csv(f\"data/2021_{month}.csv\")\n",
    "    df = pd.concat([GPS_2020, GPS_2021], axis=0)\n",
    "    \n",
    "    # 결측치 제거\n",
    "    df = df.dropna(axis=0)\n",
    "    \n",
    "    # # 이상치(GPS가 벗어난 데이터, 월이 안맞는 데이터) 제거\n",
    "    df = remove_invalid_data(df, month)\n",
    "    \n",
    "    df.to_csv(f\"month_{month}\", index=False)"
   ]
  },
  {
   "cell_type": "code",
   "execution_count": null,
   "metadata": {},
   "outputs": [],
   "source": []
  }
 ],
 "metadata": {
  "language_info": {
   "name": "python"
  },
  "orig_nbformat": 4
 },
 "nbformat": 4,
 "nbformat_minor": 2
}
